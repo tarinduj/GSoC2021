{
 "cells": [
  {
   "cell_type": "code",
   "execution_count": 12,
   "id": "01509fa9",
   "metadata": {},
   "outputs": [],
   "source": [
    "import dask.dataframe as dd\n",
    "import dask.distributed\n",
    "import os\n",
    "from dataprep.eda import plot\n",
    "import pandas as pd"
   ]
  },
  {
   "cell_type": "code",
   "execution_count": 13,
   "id": "361485e3",
   "metadata": {},
   "outputs": [
    {
     "name": "stderr",
     "output_type": "stream",
     "text": [
      "/home/tarindujayatilaka/anaconda3/envs/llvm/lib/python3.7/site-packages/distributed/node.py:155: UserWarning: Port 8787 is already in use.\n",
      "Perhaps you already have a cluster running?\n",
      "Hosting the HTTP server on port 41357 instead\n",
      "  http_address[\"port\"], self.http_server.port\n"
     ]
    }
   ],
   "source": [
    "# enables dask multiprocessing\n",
    "client = dask.distributed.Client(n_workers=8)"
   ]
  },
  {
   "cell_type": "code",
   "execution_count": 14,
   "id": "8ab072be",
   "metadata": {},
   "outputs": [],
   "source": [
    "O1 = dd.read_csv('../test-builds/llvm/datasets/O1/dask/nodup-*.csv')"
   ]
  },
  {
   "cell_type": "code",
   "execution_count": 15,
   "id": "de1544e0",
   "metadata": {},
   "outputs": [],
   "source": [
    "O3 = dd.read_csv('../test-builds/llvm/datasets/O3/dask/nodup-*.csv')"
   ]
  },
  {
   "cell_type": "code",
   "execution_count": 16,
   "id": "06072b90",
   "metadata": {},
   "outputs": [],
   "source": [
    "O3df = O3.compute()"
   ]
  },
  {
   "cell_type": "code",
   "execution_count": 17,
   "id": "f8e6d2a7",
   "metadata": {},
   "outputs": [],
   "source": [
    "O1df = O1.compute()"
   ]
  },
  {
   "cell_type": "code",
   "execution_count": 18,
   "id": "02bc7080",
   "metadata": {},
   "outputs": [
    {
     "data": {
      "text/plain": [
       "False"
      ]
     },
     "execution_count": 18,
     "metadata": {},
     "output_type": "execute_result"
    }
   ],
   "source": [
    "O1df.equals(O3df)"
   ]
  },
  {
   "cell_type": "code",
   "execution_count": 19,
   "id": "cea349ce",
   "metadata": {},
   "outputs": [],
   "source": [
    "O1ri = O1df.reset_index()"
   ]
  },
  {
   "cell_type": "code",
   "execution_count": 20,
   "id": "b3dea201",
   "metadata": {},
   "outputs": [],
   "source": [
    "O3ri = O3df.reset_index()"
   ]
  },
  {
   "cell_type": "code",
   "execution_count": 21,
   "id": "5f0cd3d9",
   "metadata": {},
   "outputs": [],
   "source": [
    "comp = O1ri.compare(O3ri)"
   ]
  },
  {
   "cell_type": "code",
   "execution_count": 22,
   "id": "5b91d45d",
   "metadata": {},
   "outputs": [
    {
     "data": {
      "text/html": [
       "<div>\n",
       "<style scoped>\n",
       "    .dataframe tbody tr th:only-of-type {\n",
       "        vertical-align: middle;\n",
       "    }\n",
       "\n",
       "    .dataframe tbody tr th {\n",
       "        vertical-align: top;\n",
       "    }\n",
       "\n",
       "    .dataframe thead tr th {\n",
       "        text-align: left;\n",
       "    }\n",
       "</style>\n",
       "<table border=\"1\" class=\"dataframe\">\n",
       "  <thead>\n",
       "    <tr>\n",
       "      <th></th>\n",
       "      <th colspan=\"2\" halign=\"left\">index</th>\n",
       "      <th colspan=\"2\" halign=\"left\">modulepath</th>\n",
       "      <th colspan=\"2\" halign=\"left\">Uses</th>\n",
       "    </tr>\n",
       "    <tr>\n",
       "      <th></th>\n",
       "      <th>self</th>\n",
       "      <th>other</th>\n",
       "      <th>self</th>\n",
       "      <th>other</th>\n",
       "      <th>self</th>\n",
       "      <th>other</th>\n",
       "    </tr>\n",
       "  </thead>\n",
       "  <tbody>\n",
       "    <tr>\n",
       "      <th>0</th>\n",
       "      <td>NaN</td>\n",
       "      <td>NaN</td>\n",
       "      <td>/mnt/disks/data/tarindu/test-builds/llvm/code-...</td>\n",
       "      <td>/mnt/disks/data/tarindu/test-builds/llvm/code-...</td>\n",
       "      <td>NaN</td>\n",
       "      <td>NaN</td>\n",
       "    </tr>\n",
       "    <tr>\n",
       "      <th>1</th>\n",
       "      <td>NaN</td>\n",
       "      <td>NaN</td>\n",
       "      <td>/mnt/disks/data/tarindu/test-builds/llvm/code-...</td>\n",
       "      <td>/mnt/disks/data/tarindu/test-builds/llvm/code-...</td>\n",
       "      <td>NaN</td>\n",
       "      <td>NaN</td>\n",
       "    </tr>\n",
       "    <tr>\n",
       "      <th>2</th>\n",
       "      <td>NaN</td>\n",
       "      <td>NaN</td>\n",
       "      <td>/mnt/disks/data/tarindu/test-builds/llvm/code-...</td>\n",
       "      <td>/mnt/disks/data/tarindu/test-builds/llvm/code-...</td>\n",
       "      <td>NaN</td>\n",
       "      <td>NaN</td>\n",
       "    </tr>\n",
       "    <tr>\n",
       "      <th>3</th>\n",
       "      <td>NaN</td>\n",
       "      <td>NaN</td>\n",
       "      <td>/mnt/disks/data/tarindu/test-builds/llvm/code-...</td>\n",
       "      <td>/mnt/disks/data/tarindu/test-builds/llvm/code-...</td>\n",
       "      <td>NaN</td>\n",
       "      <td>NaN</td>\n",
       "    </tr>\n",
       "    <tr>\n",
       "      <th>4</th>\n",
       "      <td>NaN</td>\n",
       "      <td>NaN</td>\n",
       "      <td>/mnt/disks/data/tarindu/test-builds/llvm/code-...</td>\n",
       "      <td>/mnt/disks/data/tarindu/test-builds/llvm/code-...</td>\n",
       "      <td>NaN</td>\n",
       "      <td>NaN</td>\n",
       "    </tr>\n",
       "    <tr>\n",
       "      <th>...</th>\n",
       "      <td>...</td>\n",
       "      <td>...</td>\n",
       "      <td>...</td>\n",
       "      <td>...</td>\n",
       "      <td>...</td>\n",
       "      <td>...</td>\n",
       "    </tr>\n",
       "    <tr>\n",
       "      <th>4828455</th>\n",
       "      <td>NaN</td>\n",
       "      <td>NaN</td>\n",
       "      <td>/mnt/disks/data/tarindu/test-builds/llvm/code-...</td>\n",
       "      <td>/mnt/disks/data/tarindu/test-builds/llvm/code-...</td>\n",
       "      <td>NaN</td>\n",
       "      <td>NaN</td>\n",
       "    </tr>\n",
       "    <tr>\n",
       "      <th>4828456</th>\n",
       "      <td>NaN</td>\n",
       "      <td>NaN</td>\n",
       "      <td>/mnt/disks/data/tarindu/test-builds/llvm/code-...</td>\n",
       "      <td>/mnt/disks/data/tarindu/test-builds/llvm/code-...</td>\n",
       "      <td>NaN</td>\n",
       "      <td>NaN</td>\n",
       "    </tr>\n",
       "    <tr>\n",
       "      <th>4828457</th>\n",
       "      <td>NaN</td>\n",
       "      <td>NaN</td>\n",
       "      <td>/mnt/disks/data/tarindu/test-builds/llvm/code-...</td>\n",
       "      <td>/mnt/disks/data/tarindu/test-builds/llvm/code-...</td>\n",
       "      <td>NaN</td>\n",
       "      <td>NaN</td>\n",
       "    </tr>\n",
       "    <tr>\n",
       "      <th>4828458</th>\n",
       "      <td>NaN</td>\n",
       "      <td>NaN</td>\n",
       "      <td>/mnt/disks/data/tarindu/test-builds/llvm/code-...</td>\n",
       "      <td>/mnt/disks/data/tarindu/test-builds/llvm/code-...</td>\n",
       "      <td>NaN</td>\n",
       "      <td>NaN</td>\n",
       "    </tr>\n",
       "    <tr>\n",
       "      <th>4828459</th>\n",
       "      <td>NaN</td>\n",
       "      <td>NaN</td>\n",
       "      <td>/mnt/disks/data/tarindu/test-builds/llvm/code-...</td>\n",
       "      <td>/mnt/disks/data/tarindu/test-builds/llvm/code-...</td>\n",
       "      <td>NaN</td>\n",
       "      <td>NaN</td>\n",
       "    </tr>\n",
       "  </tbody>\n",
       "</table>\n",
       "<p>4828460 rows × 6 columns</p>\n",
       "</div>"
      ],
      "text/plain": [
       "        index                                               modulepath  \\\n",
       "         self other                                               self   \n",
       "0         NaN   NaN  /mnt/disks/data/tarindu/test-builds/llvm/code-...   \n",
       "1         NaN   NaN  /mnt/disks/data/tarindu/test-builds/llvm/code-...   \n",
       "2         NaN   NaN  /mnt/disks/data/tarindu/test-builds/llvm/code-...   \n",
       "3         NaN   NaN  /mnt/disks/data/tarindu/test-builds/llvm/code-...   \n",
       "4         NaN   NaN  /mnt/disks/data/tarindu/test-builds/llvm/code-...   \n",
       "...       ...   ...                                                ...   \n",
       "4828455   NaN   NaN  /mnt/disks/data/tarindu/test-builds/llvm/code-...   \n",
       "4828456   NaN   NaN  /mnt/disks/data/tarindu/test-builds/llvm/code-...   \n",
       "4828457   NaN   NaN  /mnt/disks/data/tarindu/test-builds/llvm/code-...   \n",
       "4828458   NaN   NaN  /mnt/disks/data/tarindu/test-builds/llvm/code-...   \n",
       "4828459   NaN   NaN  /mnt/disks/data/tarindu/test-builds/llvm/code-...   \n",
       "\n",
       "                                                           Uses        \n",
       "                                                     other self other  \n",
       "0        /mnt/disks/data/tarindu/test-builds/llvm/code-...  NaN   NaN  \n",
       "1        /mnt/disks/data/tarindu/test-builds/llvm/code-...  NaN   NaN  \n",
       "2        /mnt/disks/data/tarindu/test-builds/llvm/code-...  NaN   NaN  \n",
       "3        /mnt/disks/data/tarindu/test-builds/llvm/code-...  NaN   NaN  \n",
       "4        /mnt/disks/data/tarindu/test-builds/llvm/code-...  NaN   NaN  \n",
       "...                                                    ...  ...   ...  \n",
       "4828455  /mnt/disks/data/tarindu/test-builds/llvm/code-...  NaN   NaN  \n",
       "4828456  /mnt/disks/data/tarindu/test-builds/llvm/code-...  NaN   NaN  \n",
       "4828457  /mnt/disks/data/tarindu/test-builds/llvm/code-...  NaN   NaN  \n",
       "4828458  /mnt/disks/data/tarindu/test-builds/llvm/code-...  NaN   NaN  \n",
       "4828459  /mnt/disks/data/tarindu/test-builds/llvm/code-...  NaN   NaN  \n",
       "\n",
       "[4828460 rows x 6 columns]"
      ]
     },
     "execution_count": 22,
     "metadata": {},
     "output_type": "execute_result"
    }
   ],
   "source": [
    "comp"
   ]
  },
  {
   "cell_type": "code",
   "execution_count": 36,
   "id": "56c043e8",
   "metadata": {},
   "outputs": [
    {
     "data": {
      "text/plain": [
       "index       self                                                   NaN\n",
       "            other                                                  NaN\n",
       "modulepath  self     /mnt/disks/data/tarindu/test-builds/llvm/code-...\n",
       "            other    /mnt/disks/data/tarindu/test-builds/llvm/code-...\n",
       "Uses        self                                                   NaN\n",
       "            other                                                  NaN\n",
       "Name: 0, dtype: object"
      ]
     },
     "execution_count": 36,
     "metadata": {},
     "output_type": "execute_result"
    }
   ],
   "source": [
    "comp.loc[0]"
   ]
  },
  {
   "cell_type": "code",
   "execution_count": null,
   "id": "e1a9ade4",
   "metadata": {},
   "outputs": [],
   "source": []
  }
 ],
 "metadata": {
  "kernelspec": {
   "display_name": "Python 3 (ipykernel)",
   "language": "python",
   "name": "python3"
  },
  "language_info": {
   "codemirror_mode": {
    "name": "ipython",
    "version": 3
   },
   "file_extension": ".py",
   "mimetype": "text/x-python",
   "name": "python",
   "nbconvert_exporter": "python",
   "pygments_lexer": "ipython3",
   "version": "3.7.11"
  }
 },
 "nbformat": 4,
 "nbformat_minor": 5
}
